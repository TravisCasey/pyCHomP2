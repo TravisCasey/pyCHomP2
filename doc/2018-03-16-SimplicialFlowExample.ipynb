{
 "cells": [
  {
   "cell_type": "code",
   "execution_count": 1,
   "metadata": {
    "collapsed": true
   },
   "outputs": [],
   "source": [
    "from pychomp import *"
   ]
  },
  {
   "cell_type": "markdown",
   "metadata": {},
   "source": [
    "## Simplicial Flow Example\n",
    "\n",
    "Given a simplicial complex $X$, a _discrete vector field_ on $X$ is a [matching](https://en.wikipedia.org/wiki/Matching_(graph_theory)) on the simplices of $X$ such that two simplices are only matched if one is a codimension-1 face (i.e. a facet) of the other. An example is illustrated here:\n",
    "\n",
    "![SimplicialFlowExample](./SimplicialFlowExample.png \"Simplicial Complex with Discrete Vector Field\")\n",
    "\n",
    "Define an _attractor subcomplex_ $A$ to be a combinatorially closed subcomplex of the simplicial complex such that for any matched simplices $\\sigma$ and $\\tau$, $\\sigma \\in A$ if and only if $\\tau \\in A$. The collection of attractor subcomplexes, partially ordered by inclusion, comprise a lattice $L$. The join-irreducible elements of $L$ yield a poset $P$ (from which $L$ can be recovered via [Birkhoff's Representation Theorem](https://en.wikipedia.org/wiki/Birkhoff%27s_representation_theorem)). We define a map $F$, which we call the _cell fibration_ to be the map $\\sigma \\mapsto \\cap_{\\sigma \\in A \\in L} A$. It is not difficult to see that $F(\\sigma) \\in P$ for each simplex $\\sigma$. We call the preimages $F^{-1}(p)$ for $p \\in P$ _fibers_. The poset $P$ and the associated fibers may be computed via [Tarjan's Algorithm for Strongly Connected Components](https://en.wikipedia.org/wiki/Tarjan%27s_strongly_connected_components_algorithm) applied to the graph of simplices with directed edges from each simplex to its facets and from each matched simplex to its mate in the matching. This provides a setting in which the theory of connection matrices applies. More information on the computation of the connection matrix be found [here](https://shaunharker.github.io/2016-12-15-Workshop/#1)."
   ]
  },
  {
   "cell_type": "markdown",
   "metadata": {},
   "source": [
    "## Create the Simplicial Complex"
   ]
  },
  {
   "cell_type": "code",
   "execution_count": 2,
   "metadata": {
    "collapsed": true
   },
   "outputs": [],
   "source": [
    "sc = SimplicialComplex([[0,1,2],[0,2,3]])"
   ]
  },
  {
   "cell_type": "markdown",
   "metadata": {},
   "source": [
    "## Create a Discrete Vector Field"
   ]
  },
  {
   "cell_type": "code",
   "execution_count": 3,
   "metadata": {
    "collapsed": true
   },
   "outputs": [],
   "source": [
    "class DiscreteVectorField:\n",
    "    def __init__(self, c):\n",
    "        self.c = c\n",
    "        self.pairing = {}\n",
    "        for i in c:\n",
    "            self.pairing[tuple(self.c.simplex(i))] = self.c.simplex(i)\n",
    "    def add_pair(self, s, t):\n",
    "        self.pairing[tuple(s)] = t\n",
    "        self.pairing[tuple(t)] = s        \n",
    "    def __call__(self, i):\n",
    "        return self.c.idx(self.pairing[tuple(self.c.simplex(i))])"
   ]
  },
  {
   "cell_type": "code",
   "execution_count": 4,
   "metadata": {
    "collapsed": true
   },
   "outputs": [],
   "source": [
    "dvf = DiscreteVectorField (sc)\n",
    "dvf.add_pair([0], [0,1])\n",
    "dvf.add_pair([1], [1,2])\n",
    "dvf.add_pair([2], [0,2])\n",
    "dvf.add_pair([0,3], [0,2,3])"
   ]
  },
  {
   "cell_type": "markdown",
   "metadata": {},
   "source": [
    "## Create a Multivalued Map"
   ]
  },
  {
   "cell_type": "code",
   "execution_count": 5,
   "metadata": {
    "collapsed": true
   },
   "outputs": [],
   "source": [
    "# create multivalued map\n",
    "def F(i):\n",
    "    \"\"\"\n",
    "    A simplex maps to its mate (under the discrete vector field) and its boundary cells\n",
    "    \"\"\"\n",
    "    return sc.boundary({i}) | {dvf(i)}"
   ]
  },
  {
   "cell_type": "code",
   "execution_count": 6,
   "metadata": {},
   "outputs": [
    {
     "data": {
      "text/plain": [
       "{(0,): [[0, 1]],\n",
       " (0, 1): [[0], [1]],\n",
       " (0, 1, 2): [[0, 1, 2], [0, 1], [0, 2], [1, 2]],\n",
       " (0, 2): [[0], [2]],\n",
       " (0, 2, 3): [[2, 3], [0, 2], [0, 3]],\n",
       " (0, 3): [[0], [0, 2, 3], [3]],\n",
       " (1,): [[1, 2]],\n",
       " (1, 2): [[1], [2]],\n",
       " (2,): [[0, 2]],\n",
       " (2, 3): [[2, 3], [2], [3]],\n",
       " (3,): [[3]]}"
      ]
     },
     "execution_count": 6,
     "metadata": {},
     "output_type": "execute_result"
    }
   ],
   "source": [
    "# human legible multivalued map\n",
    "{ tuple(sc.simplex(i)) : [ sc.simplex(j) for j in F(i)] for i in sc}"
   ]
  },
  {
   "cell_type": "markdown",
   "metadata": {},
   "source": [
    "## Compute the Birkhoff representation of the lattice of representable attractors"
   ]
  },
  {
   "cell_type": "code",
   "execution_count": 7,
   "metadata": {
    "collapsed": true
   },
   "outputs": [],
   "source": [
    "vertices = [ cell for cell in sc]\n",
    "(condensation_graph, component_map) = CondensationGraph(vertices, F)"
   ]
  },
  {
   "cell_type": "code",
   "execution_count": 8,
   "metadata": {
    "collapsed": true
   },
   "outputs": [],
   "source": [
    "labels = {}\n",
    "for v in vertices:\n",
    "    comp = component_map[v]\n",
    "    if comp not in labels:\n",
    "        labels[comp] = set()\n",
    "    labels[comp].add(tuple(sc.simplex(v)))\n",
    "P = Poset(condensation_graph)\n",
    "P.children_.vertex_labels_ = { comp : str(labels[comp]) for comp in condensation_graph.vertices() }"
   ]
  },
  {
   "cell_type": "code",
   "execution_count": 9,
   "metadata": {},
   "outputs": [
    {
     "data": {
      "image/svg+xml": [
       "<?xml version=\"1.0\" encoding=\"UTF-8\" standalone=\"no\"?>\n",
       "<!DOCTYPE svg PUBLIC \"-//W3C//DTD SVG 1.1//EN\"\n",
       " \"http://www.w3.org/Graphics/SVG/1.1/DTD/svg11.dtd\">\n",
       "<!-- Generated by graphviz version 2.40.1 (20161225.0304)\n",
       " -->\n",
       "<!-- Title: %3 Pages: 1 -->\n",
       "<svg width=\"360pt\" height=\"188pt\"\n",
       " viewBox=\"0.00 0.00 359.86 188.00\" xmlns=\"http://www.w3.org/2000/svg\" xmlns:xlink=\"http://www.w3.org/1999/xlink\">\n",
       "<g id=\"graph0\" class=\"graph\" transform=\"scale(1 1) rotate(0) translate(4 184)\">\n",
       "<title>%3</title>\n",
       "<polygon fill=\"#ffffff\" stroke=\"transparent\" points=\"-4,4 -4,-184 355.8563,-184 355.8563,4 -4,4\"/>\n",
       "<!-- 0 -->\n",
       "<g id=\"node1\" class=\"node\">\n",
       "<title>0</title>\n",
       "<ellipse fill=\"none\" stroke=\"#000000\" cx=\"320.7376\" cy=\"-18\" rx=\"31.2378\" ry=\"18\"/>\n",
       "<text text-anchor=\"middle\" x=\"320.7376\" y=\"-13.8\" font-family=\"Times,serif\" font-size=\"14.00\" fill=\"#000000\">{(3,)}</text>\n",
       "</g>\n",
       "<!-- 1 -->\n",
       "<g id=\"node2\" class=\"node\">\n",
       "<title>1</title>\n",
       "<ellipse fill=\"none\" stroke=\"#000000\" cx=\"135.7376\" cy=\"-18\" rx=\"135.9756\" ry=\"18\"/>\n",
       "<text text-anchor=\"middle\" x=\"135.7376\" y=\"-13.8\" font-family=\"Times,serif\" font-size=\"14.00\" fill=\"#000000\">{(0, 1), (1, 2), (0,), (1,), (2,), (0, 2)}</text>\n",
       "</g>\n",
       "<!-- 2 -->\n",
       "<g id=\"node3\" class=\"node\">\n",
       "<title>2</title>\n",
       "<ellipse fill=\"none\" stroke=\"#000000\" cx=\"278.7376\" cy=\"-90\" rx=\"37.5042\" ry=\"18\"/>\n",
       "<text text-anchor=\"middle\" x=\"278.7376\" y=\"-85.8\" font-family=\"Times,serif\" font-size=\"14.00\" fill=\"#000000\">{(2, 3)}</text>\n",
       "</g>\n",
       "<!-- 2&#45;&gt;0 -->\n",
       "<g id=\"edge1\" class=\"edge\">\n",
       "<title>2&#45;&gt;0</title>\n",
       "<path fill=\"none\" stroke=\"#000000\" d=\"M288.9046,-72.5708C293.9088,-63.9922 300.0431,-53.4762 305.5866,-43.9732\"/>\n",
       "<polygon fill=\"#000000\" stroke=\"#000000\" points=\"308.6487,-45.6701 310.6642,-35.2687 302.6022,-42.1429 308.6487,-45.6701\"/>\n",
       "</g>\n",
       "<!-- 2&#45;&gt;1 -->\n",
       "<g id=\"edge2\" class=\"edge\">\n",
       "<title>2&#45;&gt;1</title>\n",
       "<path fill=\"none\" stroke=\"#000000\" d=\"M252.5092,-76.7941C232.1512,-66.5439 203.475,-52.1056 179.6353,-40.1023\"/>\n",
       "<polygon fill=\"#000000\" stroke=\"#000000\" points=\"180.9338,-36.8376 170.428,-35.4665 177.7858,-43.0898 180.9338,-36.8376\"/>\n",
       "</g>\n",
       "<!-- 3 -->\n",
       "<g id=\"node4\" class=\"node\">\n",
       "<title>3</title>\n",
       "<ellipse fill=\"none\" stroke=\"#000000\" cx=\"278.7376\" cy=\"-162\" rx=\"70.3436\" ry=\"18\"/>\n",
       "<text text-anchor=\"middle\" x=\"278.7376\" y=\"-157.8\" font-family=\"Times,serif\" font-size=\"14.00\" fill=\"#000000\">{(0, 2, 3), (0, 3)}</text>\n",
       "</g>\n",
       "<!-- 3&#45;&gt;2 -->\n",
       "<g id=\"edge3\" class=\"edge\">\n",
       "<title>3&#45;&gt;2</title>\n",
       "<path fill=\"none\" stroke=\"#000000\" d=\"M278.7376,-143.8314C278.7376,-136.131 278.7376,-126.9743 278.7376,-118.4166\"/>\n",
       "<polygon fill=\"#000000\" stroke=\"#000000\" points=\"282.2377,-118.4132 278.7376,-108.4133 275.2377,-118.4133 282.2377,-118.4132\"/>\n",
       "</g>\n",
       "<!-- 4 -->\n",
       "<g id=\"node5\" class=\"node\">\n",
       "<title>4</title>\n",
       "<ellipse fill=\"none\" stroke=\"#000000\" cx=\"135.7376\" cy=\"-90\" rx=\"46.6897\" ry=\"18\"/>\n",
       "<text text-anchor=\"middle\" x=\"135.7376\" y=\"-85.8\" font-family=\"Times,serif\" font-size=\"14.00\" fill=\"#000000\">{(0, 1, 2)}</text>\n",
       "</g>\n",
       "<!-- 4&#45;&gt;1 -->\n",
       "<g id=\"edge4\" class=\"edge\">\n",
       "<title>4&#45;&gt;1</title>\n",
       "<path fill=\"none\" stroke=\"#000000\" d=\"M135.7376,-71.8314C135.7376,-64.131 135.7376,-54.9743 135.7376,-46.4166\"/>\n",
       "<polygon fill=\"#000000\" stroke=\"#000000\" points=\"139.2377,-46.4132 135.7376,-36.4133 132.2377,-46.4133 139.2377,-46.4132\"/>\n",
       "</g>\n",
       "</g>\n",
       "</svg>\n"
      ],
      "text/plain": [
       "<pychomp.Poset.Poset at 0x104dcba20>"
      ]
     },
     "execution_count": 9,
     "metadata": {},
     "output_type": "execute_result"
    }
   ],
   "source": [
    "P"
   ]
  },
  {
   "cell_type": "markdown",
   "metadata": {},
   "source": [
    "## Construct Cell Fibration object"
   ]
  },
  {
   "cell_type": "code",
   "execution_count": 10,
   "metadata": {
    "collapsed": true
   },
   "outputs": [],
   "source": [
    "fibration = Fibration(sc, lambda v : component_map[v]) "
   ]
  },
  {
   "cell_type": "markdown",
   "metadata": {},
   "source": [
    "The computation then precedes by computing the homological Conley Index of the pairs $(N_p, L_p)$ where $N_p$ is the combinatorially closed subcomplex with cells $f^{-1}(\\{ x \\in P : x \\leq p\\})$, (i.e. the attracting block corresponding to the node p) and L_p is the is the combinatorially closed subcomplex with cells $f^{-1}(\\{ x \\in P : x < p\\})$ of the poset P. In fact, we get more, we also get a connection matrix, and the recipe for this is to reduce the complex via reductions that never collapse pairs which are not assigned to the same poset vertex (i.e. combinatorial morse set)."
   ]
  },
  {
   "cell_type": "markdown",
   "metadata": {},
   "source": [
    "## Compute Connection Matrix"
   ]
  },
  {
   "cell_type": "code",
   "execution_count": 11,
   "metadata": {
    "collapsed": true
   },
   "outputs": [],
   "source": [
    "connection_matrix = ConnectionMatrix(fibration)"
   ]
  },
  {
   "cell_type": "markdown",
   "metadata": {},
   "source": [
    "## Visualize Connection Matrix\n",
    "\n",
    "The connection matrix is a cell fibration from a reduced complex to the poset `P`."
   ]
  },
  {
   "cell_type": "code",
   "execution_count": 12,
   "metadata": {},
   "outputs": [
    {
     "data": {
      "image/svg+xml": [
       "<?xml version=\"1.0\" encoding=\"UTF-8\" standalone=\"no\"?>\n",
       "<!DOCTYPE svg PUBLIC \"-//W3C//DTD SVG 1.1//EN\"\n",
       " \"http://www.w3.org/Graphics/SVG/1.1/DTD/svg11.dtd\">\n",
       "<!-- Generated by graphviz version 2.40.1 (20161225.0304)\n",
       " -->\n",
       "<!-- Title: %3 Pages: 1 -->\n",
       "<svg width=\"224pt\" height=\"188pt\"\n",
       " viewBox=\"0.00 0.00 223.81 188.00\" xmlns=\"http://www.w3.org/2000/svg\" xmlns:xlink=\"http://www.w3.org/1999/xlink\">\n",
       "<g id=\"graph0\" class=\"graph\" transform=\"scale(1 1) rotate(0) translate(4 184)\">\n",
       "<title>%3</title>\n",
       "<polygon fill=\"#ffffff\" stroke=\"transparent\" points=\"-4,4 -4,-184 219.8117,-184 219.8117,4 -4,4\"/>\n",
       "<!-- 0 -->\n",
       "<g id=\"node1\" class=\"node\">\n",
       "<title>0</title>\n",
       "<ellipse fill=\"#00ffff\" stroke=\"#000000\" cx=\"166.4058\" cy=\"-18\" rx=\"49.3119\" ry=\"18\"/>\n",
       "<text text-anchor=\"middle\" x=\"166.4058\" y=\"-13.8\" font-family=\"Times,serif\" font-size=\"14.00\" fill=\"#000000\">0 : (1, 0, 0)</text>\n",
       "</g>\n",
       "<!-- 1 -->\n",
       "<g id=\"node2\" class=\"node\">\n",
       "<title>1</title>\n",
       "<ellipse fill=\"#00ffff\" stroke=\"#000000\" cx=\"49.4058\" cy=\"-18\" rx=\"49.3119\" ry=\"18\"/>\n",
       "<text text-anchor=\"middle\" x=\"49.4058\" y=\"-13.8\" font-family=\"Times,serif\" font-size=\"14.00\" fill=\"#000000\">1 : (1, 1, 0)</text>\n",
       "</g>\n",
       "<!-- 2 -->\n",
       "<g id=\"node3\" class=\"node\">\n",
       "<title>2</title>\n",
       "<ellipse fill=\"#00ffff\" stroke=\"#000000\" cx=\"166.4058\" cy=\"-90\" rx=\"49.3119\" ry=\"18\"/>\n",
       "<text text-anchor=\"middle\" x=\"166.4058\" y=\"-85.8\" font-family=\"Times,serif\" font-size=\"14.00\" fill=\"#000000\">2 : (0, 1, 0)</text>\n",
       "</g>\n",
       "<!-- 2&#45;&gt;0 -->\n",
       "<g id=\"edge1\" class=\"edge\">\n",
       "<title>2&#45;&gt;0</title>\n",
       "<path fill=\"none\" stroke=\"#000000\" d=\"M166.4058,-71.8314C166.4058,-64.131 166.4058,-54.9743 166.4058,-46.4166\"/>\n",
       "<polygon fill=\"#000000\" stroke=\"#000000\" points=\"169.9059,-46.4132 166.4058,-36.4133 162.9059,-46.4133 169.9059,-46.4132\"/>\n",
       "</g>\n",
       "<!-- 2&#45;&gt;1 -->\n",
       "<g id=\"edge2\" class=\"edge\">\n",
       "<title>2&#45;&gt;1</title>\n",
       "<path fill=\"none\" stroke=\"#000000\" d=\"M141.0186,-74.3771C124.1535,-63.9986 101.8137,-50.251 83.4168,-38.9298\"/>\n",
       "<polygon fill=\"#000000\" stroke=\"#000000\" points=\"85.0945,-35.8526 74.7435,-33.5924 81.4258,-41.8143 85.0945,-35.8526\"/>\n",
       "</g>\n",
       "<!-- 3 -->\n",
       "<g id=\"node4\" class=\"node\">\n",
       "<title>3</title>\n",
       "<ellipse fill=\"none\" stroke=\"#000000\" cx=\"166.4058\" cy=\"-162\" rx=\"27\" ry=\"18\"/>\n",
       "<text text-anchor=\"middle\" x=\"166.4058\" y=\"-157.8\" font-family=\"Times,serif\" font-size=\"14.00\" fill=\"#000000\"> </text>\n",
       "</g>\n",
       "<!-- 3&#45;&gt;2 -->\n",
       "<g id=\"edge3\" class=\"edge\">\n",
       "<title>3&#45;&gt;2</title>\n",
       "<path fill=\"none\" stroke=\"#000000\" d=\"M166.4058,-143.8314C166.4058,-136.131 166.4058,-126.9743 166.4058,-118.4166\"/>\n",
       "<polygon fill=\"#000000\" stroke=\"#000000\" points=\"169.9059,-118.4132 166.4058,-108.4133 162.9059,-118.4133 169.9059,-118.4132\"/>\n",
       "</g>\n",
       "<!-- 4 -->\n",
       "<g id=\"node5\" class=\"node\">\n",
       "<title>4</title>\n",
       "<ellipse fill=\"#00ffff\" stroke=\"#000000\" cx=\"49.4058\" cy=\"-90\" rx=\"49.3119\" ry=\"18\"/>\n",
       "<text text-anchor=\"middle\" x=\"49.4058\" y=\"-85.8\" font-family=\"Times,serif\" font-size=\"14.00\" fill=\"#000000\">4 : (0, 0, 1)</text>\n",
       "</g>\n",
       "<!-- 4&#45;&gt;1 -->\n",
       "<g id=\"edge4\" class=\"edge\">\n",
       "<title>4&#45;&gt;1</title>\n",
       "<path fill=\"none\" stroke=\"#000000\" d=\"M49.4058,-71.8314C49.4058,-64.131 49.4058,-54.9743 49.4058,-46.4166\"/>\n",
       "<polygon fill=\"#000000\" stroke=\"#000000\" points=\"52.9059,-46.4132 49.4058,-36.4133 45.9059,-46.4133 52.9059,-46.4132\"/>\n",
       "</g>\n",
       "</g>\n",
       "</svg>\n"
      ],
      "text/plain": [
       "<pychomp.DrawFibration.DrawFibration at 0x104dcb3c8>"
      ]
     },
     "execution_count": 12,
     "metadata": {},
     "output_type": "execute_result"
    }
   ],
   "source": [
    "# Conley-Morse Graph\n",
    "DrawFibration(connection_matrix, P)"
   ]
  },
  {
   "cell_type": "code",
   "execution_count": 13,
   "metadata": {},
   "outputs": [
    {
     "name": "stdout",
     "output_type": "stream",
     "text": [
      "cell = 0, poset vertex 1, boundary = set()\n",
      "cell = 1, poset vertex 0, boundary = set()\n",
      "cell = 2, poset vertex 1, boundary = set()\n",
      "cell = 3, poset vertex 2, boundary = {0, 1}\n",
      "cell = 4, poset vertex 4, boundary = {2}\n"
     ]
    }
   ],
   "source": [
    "for i in connection_matrix.complex():\n",
    "    print(\"cell = \" + str(i) + \", poset vertex \" + str(connection_matrix.value(i)) + \", boundary = \" + str(connection_matrix.complex().boundary({i})))\n",
    "    "
   ]
  },
  {
   "cell_type": "code",
   "execution_count": 14,
   "metadata": {},
   "outputs": [
    {
     "name": "stdout",
     "output_type": "stream",
     "text": [
      "0 : set()\n",
      "1 : set()\n",
      "2 : set()\n",
      "3 : {0, 1}\n",
      "4 : {2}\n"
     ]
    }
   ],
   "source": [
    "# Connection Matrix Entries\n",
    "for generator in connection_matrix.complex():\n",
    "    print(str(generator) + \" : \" + str(connection_matrix.complex().boundary({generator})))"
   ]
  },
  {
   "cell_type": "code",
   "execution_count": 15,
   "metadata": {
    "collapsed": true
   },
   "outputs": [],
   "source": [
    "df = DrawFibration(connection_matrix, P)"
   ]
  },
  {
   "cell_type": "code",
   "execution_count": 16,
   "metadata": {},
   "outputs": [
    {
     "data": {
      "text/plain": [
       "'digraph {\\n0[label=\"0 : (1, 0, 0)\", style=filled, fillcolor=cyan];\\n1[label=\"1 : (1, 1, 0)\", style=filled, fillcolor=cyan];\\n2[label=\"2 : (0, 1, 0)\", style=filled, fillcolor=cyan];\\n3[label=\" \"];\\n4[label=\"4 : (0, 0, 1)\", style=filled, fillcolor=cyan];\\n2 -> 0;\\n2 -> 1;\\n3 -> 2;\\n4 -> 1;\\n}\\n'"
      ]
     },
     "execution_count": 16,
     "metadata": {},
     "output_type": "execute_result"
    }
   ],
   "source": [
    "df.graphviz()"
   ]
  },
  {
   "cell_type": "code",
   "execution_count": 17,
   "metadata": {
    "collapsed": true
   },
   "outputs": [],
   "source": [
    "# with open(\"example.gv\", \"w\") as outfile:\n",
    "#     outfile.write(df.graphviz())"
   ]
  },
  {
   "cell_type": "code",
   "execution_count": 18,
   "metadata": {
    "collapsed": true
   },
   "outputs": [],
   "source": [
    "cc = connection_matrix.complex()"
   ]
  },
  {
   "cell_type": "code",
   "execution_count": 19,
   "metadata": {},
   "outputs": [
    {
     "name": "stdout",
     "output_type": "stream",
     "text": [
      "cell = 0, poset vertex 1, boundary = set()\n",
      "cell = 1, poset vertex 0, boundary = set()\n",
      "cell = 2, poset vertex 1, boundary = set()\n",
      "cell = 3, poset vertex 2, boundary = {0, 1}\n",
      "cell = 4, poset vertex 4, boundary = {2}\n"
     ]
    }
   ],
   "source": [
    "for i in connection_matrix.complex():\n",
    "    print(\"cell = \" + str(i) + \", poset vertex \" + str(connection_matrix.value(i)) + \", boundary = \" + str(connection_matrix.complex().boundary({i})))"
   ]
  },
  {
   "cell_type": "code",
   "execution_count": 20,
   "metadata": {},
   "outputs": [
    {
     "data": {
      "text/plain": [
       "[2, 2, 1]"
      ]
     },
     "execution_count": 20,
     "metadata": {},
     "output_type": "execute_result"
    }
   ],
   "source": [
    "[ connection_matrix.complex().size(d) for d in range(0,connection_matrix.complex().dimension()+1)]"
   ]
  },
  {
   "cell_type": "code",
   "execution_count": 21,
   "metadata": {
    "collapsed": true
   },
   "outputs": [],
   "source": [
    "cmc = connection_matrix.complex()"
   ]
  },
  {
   "cell_type": "code",
   "execution_count": 22,
   "metadata": {},
   "outputs": [
    {
     "data": {
      "text/plain": [
       "[(0, [[2]]),\n",
       " (1, [[3]]),\n",
       " (2, [[0, 1], [0, 2], [1, 2]]),\n",
       " (3, [[2, 3]]),\n",
       " (4, [[0, 1, 2]])]"
      ]
     },
     "execution_count": 22,
     "metadata": {},
     "output_type": "execute_result"
    }
   ],
   "source": [
    "[ (i, [ sc.simplex(j) for j in cmc.lift({i})]) for i in cmc]"
   ]
  },
  {
   "cell_type": "code",
   "execution_count": 23,
   "metadata": {},
   "outputs": [
    {
     "data": {
      "text/plain": [
       "[2, 3]"
      ]
     },
     "execution_count": 23,
     "metadata": {},
     "output_type": "execute_result"
    }
   ],
   "source": [
    "sc.simplex(8)"
   ]
  },
  {
   "cell_type": "code",
   "execution_count": null,
   "metadata": {
    "collapsed": true
   },
   "outputs": [],
   "source": []
  }
 ],
 "metadata": {
  "kernelspec": {
   "display_name": "Python 3",
   "language": "python",
   "name": "python3"
  },
  "language_info": {
   "codemirror_mode": {
    "name": "ipython",
    "version": 3
   },
   "file_extension": ".py",
   "mimetype": "text/x-python",
   "name": "python",
   "nbconvert_exporter": "python",
   "pygments_lexer": "ipython3",
   "version": "3.6.3"
  }
 },
 "nbformat": 4,
 "nbformat_minor": 2
}

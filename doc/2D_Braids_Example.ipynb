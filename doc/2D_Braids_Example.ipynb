{
 "cells": [
  {
   "cell_type": "code",
   "execution_count": 1,
   "metadata": {},
   "outputs": [],
   "source": [
    "from pychomp import *\n",
    "from pychomp.Braids import *"
   ]
  },
  {
   "cell_type": "code",
   "execution_count": 2,
   "metadata": {},
   "outputs": [],
   "source": [
    "braid_diagram = BraidDiagram([ [1,3,1], [2,1,2], \n",
    "                               [3,4,3], [4,2,4]])"
   ]
  },
  {
   "cell_type": "code",
   "execution_count": 3,
   "metadata": {},
   "outputs": [
    {
     "data": {
      "image/png": "[encoded data removed]",
      "text/plain": [
       "<Figure size 432x288 with 1 Axes>"
      ]
     },
     "metadata": {
      "needs_background": "light"
     },
     "output_type": "display_data"
    },
    {
     "data": {
      "text/plain": [
       "Braid Diagram"
      ]
     },
     "execution_count": 3,
     "metadata": {},
     "output_type": "execute_result"
    }
   ],
   "source": [
    "braid_diagram"
   ]
  },
  {
   "cell_type": "code",
   "execution_count": 4,
   "metadata": {},
   "outputs": [
    {
     "name": "stdout",
     "output_type": "stream",
     "text": [
      "CPU times: user 1.05 ms, sys: 247 µs, total: 1.3 ms\n",
      "Wall time: 1.51 ms\n"
     ]
    }
   ],
   "source": [
    "%%time\n",
    "braid_complex, braid_graph = BraidComplex(braid_diagram)"
   ]
  },
  {
   "cell_type": "code",
   "execution_count": 5,
   "metadata": {},
   "outputs": [],
   "source": [
    "# debug\n",
    "vertices = [ cell for cell in braid_complex(braid_complex.dimension())]\n",
    "(dag, mapping) = CondensationGraph(vertices, braid_graph)\n",
    "grading = construct_grading(braid_complex, lambda x : mapping[x] );\n",
    "graded_complex = GradedComplex(braid_complex, grading)"
   ]
  },
  {
   "cell_type": "code",
   "execution_count": 6,
   "metadata": {},
   "outputs": [
    {
     "name": "stdout",
     "output_type": "stream",
     "text": [
      "([0, 0], 0)\n",
      "([0, 1], 1)\n",
      "([2, 1], 2)\n",
      "([1, 1], 2)\n",
      "([1, 0], 2)\n",
      "([2, 0], 2)\n",
      "([4, 4], 3)\n",
      "([4, 3], 4)\n",
      "([3, 3], 5)\n",
      "([3, 4], 5)\n",
      "([2, 4], 5)\n",
      "([2, 3], 5)\n",
      "([2, 2], 6)\n",
      "([3, 2], 7)\n",
      "([4, 2], 7)\n",
      "([4, 1], 7)\n",
      "([3, 1], 7)\n",
      "([3, 0], 8)\n",
      "([1, 2], 9)\n",
      "([0, 2], 9)\n",
      "([0, 3], 9)\n",
      "([1, 3], 9)\n",
      "([1, 4], 10)\n",
      "([4, 0], 11)\n",
      "([0, 4], 12)\n",
      "([5, 0], 13)\n",
      "([5, 1], 13)\n",
      "([5, 2], 13)\n",
      "([5, 3], 13)\n",
      "([5, 4], 13)\n",
      "([0, 5], 13)\n",
      "([1, 5], 13)\n",
      "([2, 5], 13)\n",
      "([3, 5], 13)\n",
      "([4, 5], 13)\n",
      "([5, 5], 13)\n"
     ]
    }
   ],
   "source": [
    "for k in mapping:\n",
    "    print((braid_complex.coordinates(k), mapping[k]))"
   ]
  },
  {
   "cell_type": "code",
   "execution_count": 7,
   "metadata": {},
   "outputs": [
    {
     "name": "stdout",
     "output_type": "stream",
     "text": [
      "(0, [0, 0], 0)\n",
      "(0, [1, 0], 0)\n",
      "(0, [2, 0], 2)\n",
      "(0, [3, 0], 2)\n",
      "(0, [4, 0], 8)\n",
      "(0, [5, 0], 11)\n",
      "(0, [0, 1], 0)\n",
      "(0, [1, 1], 0)\n",
      "(0, [2, 1], 2)\n",
      "(0, [3, 1], 2)\n",
      "(0, [4, 1], 7)\n",
      "(0, [5, 1], 7)\n",
      "(0, [0, 2], 1)\n",
      "(0, [1, 2], 1)\n",
      "(0, [2, 2], 2)\n",
      "(0, [3, 2], 2)\n",
      "(0, [4, 2], 7)\n",
      "(0, [5, 2], 7)\n",
      "(0, [0, 3], 9)\n",
      "(0, [1, 3], 9)\n",
      "(0, [2, 3], 5)\n",
      "(0, [3, 3], 5)\n",
      "(0, [4, 3], 4)\n",
      "(0, [5, 3], 4)\n",
      "(0, [0, 4], 9)\n",
      "(0, [1, 4], 9)\n",
      "(0, [2, 4], 5)\n",
      "(0, [3, 4], 5)\n",
      "(0, [4, 4], 3)\n",
      "(0, [5, 4], 3)\n",
      "(0, [0, 5], 12)\n",
      "(0, [1, 5], 10)\n",
      "(0, [2, 5], 5)\n",
      "(0, [3, 5], 5)\n",
      "(0, [4, 5], 3)\n",
      "(0, [5, 5], 3)\n",
      "(1, [0, 0], 0)\n",
      "(1, [1, 0], 2)\n",
      "(1, [2, 0], 2)\n",
      "(1, [3, 0], 8)\n",
      "(1, [4, 0], 11)\n",
      "(1, [5, 0], 13)\n",
      "(1, [0, 1], 0)\n",
      "(1, [1, 1], 2)\n",
      "(1, [2, 1], 2)\n",
      "(1, [3, 1], 7)\n",
      "(1, [4, 1], 7)\n",
      "(1, [5, 1], 13)\n",
      "(1, [0, 2], 1)\n",
      "(1, [1, 2], 2)\n",
      "(1, [2, 2], 2)\n",
      "(1, [3, 2], 7)\n",
      "(1, [4, 2], 7)\n",
      "(1, [5, 2], 13)\n",
      "(1, [0, 3], 9)\n",
      "(1, [1, 3], 9)\n",
      "(1, [2, 3], 5)\n",
      "(1, [3, 3], 5)\n",
      "(1, [4, 3], 4)\n",
      "(1, [5, 3], 13)\n",
      "(1, [0, 4], 9)\n",
      "(1, [1, 4], 9)\n",
      "(1, [2, 4], 5)\n",
      "(1, [3, 4], 5)\n",
      "(1, [4, 4], 3)\n",
      "(1, [5, 4], 13)\n",
      "(1, [0, 5], 12)\n",
      "(1, [1, 5], 10)\n",
      "(1, [2, 5], 5)\n",
      "(1, [3, 5], 5)\n",
      "(1, [4, 5], 3)\n",
      "(1, [5, 5], 13)\n",
      "(2, [0, 0], 0)\n",
      "(2, [1, 0], 0)\n",
      "(2, [2, 0], 2)\n",
      "(2, [3, 0], 2)\n",
      "(2, [4, 0], 8)\n",
      "(2, [5, 0], 11)\n",
      "(2, [0, 1], 1)\n",
      "(2, [1, 1], 1)\n",
      "(2, [2, 1], 2)\n",
      "(2, [3, 1], 2)\n",
      "(2, [4, 1], 7)\n",
      "(2, [5, 1], 7)\n",
      "(2, [0, 2], 9)\n",
      "(2, [1, 2], 9)\n",
      "(2, [2, 2], 6)\n",
      "(2, [3, 2], 6)\n",
      "(2, [4, 2], 7)\n",
      "(2, [5, 2], 7)\n",
      "(2, [0, 3], 9)\n",
      "(2, [1, 3], 9)\n",
      "(2, [2, 3], 5)\n",
      "(2, [3, 3], 5)\n",
      "(2, [4, 3], 4)\n",
      "(2, [5, 3], 4)\n",
      "(2, [0, 4], 12)\n",
      "(2, [1, 4], 10)\n",
      "(2, [2, 4], 5)\n",
      "(2, [3, 4], 5)\n",
      "(2, [4, 4], 3)\n",
      "(2, [5, 4], 3)\n",
      "(2, [0, 5], 13)\n",
      "(2, [1, 5], 13)\n",
      "(2, [2, 5], 13)\n",
      "(2, [3, 5], 13)\n",
      "(2, [4, 5], 13)\n",
      "(2, [5, 5], 13)\n",
      "(3, [0, 0], 0)\n",
      "(3, [1, 0], 2)\n",
      "(3, [2, 0], 2)\n",
      "(3, [3, 0], 8)\n",
      "(3, [4, 0], 11)\n",
      "(3, [5, 0], 13)\n",
      "(3, [0, 1], 1)\n",
      "(3, [1, 1], 2)\n",
      "(3, [2, 1], 2)\n",
      "(3, [3, 1], 7)\n",
      "(3, [4, 1], 7)\n",
      "(3, [5, 1], 13)\n",
      "(3, [0, 2], 9)\n",
      "(3, [1, 2], 9)\n",
      "(3, [2, 2], 6)\n",
      "(3, [3, 2], 7)\n",
      "(3, [4, 2], 7)\n",
      "(3, [5, 2], 13)\n",
      "(3, [0, 3], 9)\n",
      "(3, [1, 3], 9)\n",
      "(3, [2, 3], 5)\n",
      "(3, [3, 3], 5)\n",
      "(3, [4, 3], 4)\n",
      "(3, [5, 3], 13)\n",
      "(3, [0, 4], 12)\n",
      "(3, [1, 4], 10)\n",
      "(3, [2, 4], 5)\n",
      "(3, [3, 4], 5)\n",
      "(3, [4, 4], 3)\n",
      "(3, [5, 4], 13)\n",
      "(3, [0, 5], 13)\n",
      "(3, [1, 5], 13)\n",
      "(3, [2, 5], 13)\n",
      "(3, [3, 5], 13)\n",
      "(3, [4, 5], 13)\n",
      "(3, [5, 5], 13)\n"
     ]
    }
   ],
   "source": [
    "for i in braid_complex:\n",
    "    print((braid_complex.cell_shape(i), braid_complex.coordinates(i), grading(i)))"
   ]
  },
  {
   "cell_type": "code",
   "execution_count": 8,
   "metadata": {},
   "outputs": [],
   "source": [
    "cubical_matching = CubicalMorseMatching(graded_complex)"
   ]
  },
  {
   "cell_type": "code",
   "execution_count": 9,
   "metadata": {},
   "outputs": [
    {
     "name": "stdout",
     "output_type": "stream",
     "text": [
      "((0, 0, [0, 0], 0), (36, 1, [0, 0], 0))\n",
      "((1, 0, [1, 0], 0), (73, 2, [1, 0], 0))\n",
      "((2, 0, [2, 0], 2), (38, 1, [2, 0], 2))\n",
      "((3, 0, [3, 0], 2), (75, 2, [3, 0], 2))\n",
      "((4, 0, [4, 0], 8), (76, 2, [4, 0], 8))\n",
      "((5, 0, [5, 0], 11), (77, 2, [5, 0], 11))\n",
      "((6, 0, [0, 1], 0), (42, 1, [0, 1], 0))\n",
      "((7, 0, [1, 1], 0), (7, 0, [1, 1], 0))\n",
      "((8, 0, [2, 1], 2), (44, 1, [2, 1], 2))\n",
      "((9, 0, [3, 1], 2), (81, 2, [3, 1], 2))\n",
      "((10, 0, [4, 1], 7), (46, 1, [4, 1], 7))\n",
      "((11, 0, [5, 1], 7), (83, 2, [5, 1], 7))\n",
      "((12, 0, [0, 2], 1), (48, 1, [0, 2], 1))\n",
      "((13, 0, [1, 2], 1), (13, 0, [1, 2], 1))\n",
      "((14, 0, [2, 2], 2), (50, 1, [2, 2], 2))\n",
      "((15, 0, [3, 2], 2), (15, 0, [3, 2], 2))\n",
      "((16, 0, [4, 2], 7), (52, 1, [4, 2], 7))\n",
      "((17, 0, [5, 2], 7), (89, 2, [5, 2], 7))\n",
      "((18, 0, [0, 3], 9), (54, 1, [0, 3], 9))\n",
      "((19, 0, [1, 3], 9), (55, 1, [1, 3], 9))\n",
      "((20, 0, [2, 3], 5), (56, 1, [2, 3], 5))\n",
      "((21, 0, [3, 3], 5), (57, 1, [3, 3], 5))\n",
      "((22, 0, [4, 3], 4), (58, 1, [4, 3], 4))\n",
      "((23, 0, [5, 3], 4), (95, 2, [5, 3], 4))\n",
      "((24, 0, [0, 4], 9), (60, 1, [0, 4], 9))\n",
      "((25, 0, [1, 4], 9), (61, 1, [1, 4], 9))\n",
      "((26, 0, [2, 4], 5), (62, 1, [2, 4], 5))\n",
      "((27, 0, [3, 4], 5), (63, 1, [3, 4], 5))\n",
      "((28, 0, [4, 4], 3), (64, 1, [4, 4], 3))\n",
      "((29, 0, [5, 4], 3), (101, 2, [5, 4], 3))\n",
      "((30, 0, [0, 5], 12), (66, 1, [0, 5], 12))\n",
      "((31, 0, [1, 5], 10), (67, 1, [1, 5], 10))\n",
      "((32, 0, [2, 5], 5), (68, 1, [2, 5], 5))\n",
      "((33, 0, [3, 5], 5), (69, 1, [3, 5], 5))\n",
      "((34, 0, [4, 5], 3), (70, 1, [4, 5], 3))\n",
      "((35, 0, [5, 5], 3), (35, 0, [5, 5], 3))\n",
      "((36, 1, [0, 0], 0), (0, 0, [0, 0], 0))\n",
      "((37, 1, [1, 0], 2), (109, 3, [1, 0], 2))\n",
      "((38, 1, [2, 0], 2), (2, 0, [2, 0], 2))\n",
      "((39, 1, [3, 0], 8), (111, 3, [3, 0], 8))\n",
      "((40, 1, [4, 0], 11), (112, 3, [4, 0], 11))\n",
      "((41, 1, [5, 0], 13), (41, 1, [5, 0], 13))\n",
      "((42, 1, [0, 1], 0), (6, 0, [0, 1], 0))\n",
      "((43, 1, [1, 1], 2), (115, 3, [1, 1], 2))\n",
      "((44, 1, [2, 1], 2), (8, 0, [2, 1], 2))\n",
      "((45, 1, [3, 1], 7), (117, 3, [3, 1], 7))\n",
      "((46, 1, [4, 1], 7), (10, 0, [4, 1], 7))\n",
      "((47, 1, [5, 1], 13), (47, 1, [5, 1], 13))\n",
      "((48, 1, [0, 2], 1), (12, 0, [0, 2], 1))\n",
      "((49, 1, [1, 2], 2), (49, 1, [1, 2], 2))\n",
      "((50, 1, [2, 2], 2), (14, 0, [2, 2], 2))\n",
      "((51, 1, [3, 2], 7), (123, 3, [3, 2], 7))\n",
      "((52, 1, [4, 2], 7), (16, 0, [4, 2], 7))\n",
      "((53, 1, [5, 2], 13), (53, 1, [5, 2], 13))\n",
      "((54, 1, [0, 3], 9), (18, 0, [0, 3], 9))\n",
      "((55, 1, [1, 3], 9), (19, 0, [1, 3], 9))\n",
      "((56, 1, [2, 3], 5), (20, 0, [2, 3], 5))\n",
      "((57, 1, [3, 3], 5), (21, 0, [3, 3], 5))\n",
      "((58, 1, [4, 3], 4), (22, 0, [4, 3], 4))\n",
      "((59, 1, [5, 3], 13), (59, 1, [5, 3], 13))\n",
      "((60, 1, [0, 4], 9), (24, 0, [0, 4], 9))\n",
      "((61, 1, [1, 4], 9), (25, 0, [1, 4], 9))\n",
      "((62, 1, [2, 4], 5), (26, 0, [2, 4], 5))\n",
      "((63, 1, [3, 4], 5), (27, 0, [3, 4], 5))\n",
      "((64, 1, [4, 4], 3), (28, 0, [4, 4], 3))\n",
      "((65, 1, [5, 4], 13), (65, 1, [5, 4], 13))\n",
      "((66, 1, [0, 5], 12), (30, 0, [0, 5], 12))\n",
      "((67, 1, [1, 5], 10), (31, 0, [1, 5], 10))\n",
      "((68, 1, [2, 5], 5), (32, 0, [2, 5], 5))\n",
      "((69, 1, [3, 5], 5), (33, 0, [3, 5], 5))\n",
      "((70, 1, [4, 5], 3), (34, 0, [4, 5], 3))\n",
      "((71, 1, [5, 5], 13), (71, 1, [5, 5], 13))\n",
      "((72, 2, [0, 0], 0), (108, 3, [0, 0], 0))\n",
      "((73, 2, [1, 0], 0), (1, 0, [1, 0], 0))\n",
      "((74, 2, [2, 0], 2), (110, 3, [2, 0], 2))\n",
      "((75, 2, [3, 0], 2), (3, 0, [3, 0], 2))\n",
      "((76, 2, [4, 0], 8), (4, 0, [4, 0], 8))\n",
      "((77, 2, [5, 0], 11), (5, 0, [5, 0], 11))\n",
      "((78, 2, [0, 1], 1), (114, 3, [0, 1], 1))\n",
      "((79, 2, [1, 1], 1), (79, 2, [1, 1], 1))\n",
      "((80, 2, [2, 1], 2), (116, 3, [2, 1], 2))\n",
      "((81, 2, [3, 1], 2), (9, 0, [3, 1], 2))\n",
      "((82, 2, [4, 1], 7), (118, 3, [4, 1], 7))\n",
      "((83, 2, [5, 1], 7), (11, 0, [5, 1], 7))\n",
      "((84, 2, [0, 2], 9), (120, 3, [0, 2], 9))\n",
      "((85, 2, [1, 2], 9), (121, 3, [1, 2], 9))\n",
      "((86, 2, [2, 2], 6), (122, 3, [2, 2], 6))\n",
      "((87, 2, [3, 2], 6), (87, 2, [3, 2], 6))\n",
      "((88, 2, [4, 2], 7), (124, 3, [4, 2], 7))\n",
      "((89, 2, [5, 2], 7), (17, 0, [5, 2], 7))\n",
      "((90, 2, [0, 3], 9), (126, 3, [0, 3], 9))\n",
      "((91, 2, [1, 3], 9), (127, 3, [1, 3], 9))\n",
      "((92, 2, [2, 3], 5), (128, 3, [2, 3], 5))\n",
      "((93, 2, [3, 3], 5), (129, 3, [3, 3], 5))\n",
      "((94, 2, [4, 3], 4), (130, 3, [4, 3], 4))\n",
      "((95, 2, [5, 3], 4), (23, 0, [5, 3], 4))\n",
      "((96, 2, [0, 4], 12), (132, 3, [0, 4], 12))\n",
      "((97, 2, [1, 4], 10), (133, 3, [1, 4], 10))\n",
      "((98, 2, [2, 4], 5), (134, 3, [2, 4], 5))\n",
      "((99, 2, [3, 4], 5), (135, 3, [3, 4], 5))\n",
      "((100, 2, [4, 4], 3), (136, 3, [4, 4], 3))\n",
      "((101, 2, [5, 4], 3), (29, 0, [5, 4], 3))\n",
      "((102, 2, [0, 5], 13), (102, 2, [0, 5], 13))\n",
      "((103, 2, [1, 5], 13), (103, 2, [1, 5], 13))\n",
      "((104, 2, [2, 5], 13), (104, 2, [2, 5], 13))\n",
      "((105, 2, [3, 5], 13), (105, 2, [3, 5], 13))\n",
      "((106, 2, [4, 5], 13), (106, 2, [4, 5], 13))\n",
      "((107, 2, [5, 5], 13), (107, 2, [5, 5], 13))\n",
      "((108, 3, [0, 0], 0), (72, 2, [0, 0], 0))\n",
      "((109, 3, [1, 0], 2), (37, 1, [1, 0], 2))\n",
      "((110, 3, [2, 0], 2), (74, 2, [2, 0], 2))\n",
      "((111, 3, [3, 0], 8), (39, 1, [3, 0], 8))\n",
      "((112, 3, [4, 0], 11), (40, 1, [4, 0], 11))\n",
      "((113, 3, [5, 0], 13), (113, 3, [5, 0], 13))\n",
      "((114, 3, [0, 1], 1), (78, 2, [0, 1], 1))\n",
      "((115, 3, [1, 1], 2), (43, 1, [1, 1], 2))\n",
      "((116, 3, [2, 1], 2), (80, 2, [2, 1], 2))\n",
      "((117, 3, [3, 1], 7), (45, 1, [3, 1], 7))\n",
      "((118, 3, [4, 1], 7), (82, 2, [4, 1], 7))\n",
      "((119, 3, [5, 1], 13), (119, 3, [5, 1], 13))\n",
      "((120, 3, [0, 2], 9), (84, 2, [0, 2], 9))\n",
      "((121, 3, [1, 2], 9), (85, 2, [1, 2], 9))\n",
      "((122, 3, [2, 2], 6), (86, 2, [2, 2], 6))\n",
      "((123, 3, [3, 2], 7), (51, 1, [3, 2], 7))\n",
      "((124, 3, [4, 2], 7), (88, 2, [4, 2], 7))\n",
      "((125, 3, [5, 2], 13), (125, 3, [5, 2], 13))\n",
      "((126, 3, [0, 3], 9), (90, 2, [0, 3], 9))\n",
      "((127, 3, [1, 3], 9), (91, 2, [1, 3], 9))\n",
      "((128, 3, [2, 3], 5), (92, 2, [2, 3], 5))\n",
      "((129, 3, [3, 3], 5), (93, 2, [3, 3], 5))\n",
      "((130, 3, [4, 3], 4), (94, 2, [4, 3], 4))\n",
      "((131, 3, [5, 3], 13), (131, 3, [5, 3], 13))\n",
      "((132, 3, [0, 4], 12), (96, 2, [0, 4], 12))\n",
      "((133, 3, [1, 4], 10), (97, 2, [1, 4], 10))\n",
      "((134, 3, [2, 4], 5), (98, 2, [2, 4], 5))\n",
      "((135, 3, [3, 4], 5), (99, 2, [3, 4], 5))\n",
      "((136, 3, [4, 4], 3), (100, 2, [4, 4], 3))\n",
      "((137, 3, [5, 4], 13), (137, 3, [5, 4], 13))\n",
      "((138, 3, [0, 5], 13), (138, 3, [0, 5], 13))\n",
      "((139, 3, [1, 5], 13), (139, 3, [1, 5], 13))\n",
      "((140, 3, [2, 5], 13), (140, 3, [2, 5], 13))\n",
      "((141, 3, [3, 5], 13), (141, 3, [3, 5], 13))\n",
      "((142, 3, [4, 5], 13), (142, 3, [4, 5], 13))\n",
      "((143, 3, [5, 5], 13), (143, 3, [5, 5], 13))\n"
     ]
    }
   ],
   "source": [
    "for i in braid_complex:\n",
    "    j = cubical_matching.mate(i)\n",
    "    celldata = lambda k : (k, braid_complex.cell_shape(k), braid_complex.coordinates(k), grading(k))\n",
    "    print((celldata(i), celldata(j)))"
   ]
  },
  {
   "cell_type": "code",
   "execution_count": 10,
   "metadata": {},
   "outputs": [
    {
     "name": "stdout",
     "output_type": "stream",
     "text": [
      "CPU times: user 922 µs, sys: 175 µs, total: 1.1 ms\n",
      "Wall time: 1.13 ms\n"
     ]
    }
   ],
   "source": [
    "%%time\n",
    "(poset, graded_complex) = FlowGradedComplex(braid_complex, braid_graph)"
   ]
  },
  {
   "cell_type": "code",
   "execution_count": 11,
   "metadata": {},
   "outputs": [
    {
     "name": "stdout",
     "output_type": "stream",
     "text": [
      "CPU times: user 166 ms, sys: 112 ms, total: 278 ms\n",
      "Wall time: 426 ms\n"
     ]
    }
   ],
   "source": [
    "%%time\n",
    "connection_matrix = ConnectionMatrix(graded_complex)"
   ]
  },
  {
   "cell_type": "code",
   "execution_count": 12,
   "metadata": {},
   "outputs": [
    {
     "name": "stdout",
     "output_type": "stream",
     "text": [
      "CPU times: user 387 µs, sys: 8 µs, total: 395 µs\n",
      "Wall time: 457 µs\n"
     ]
    }
   ],
   "source": [
    "%%time\n",
    "reduced_poset = Poset(InducedSubgraph(TransitiveClosure(poset), lambda v : v in connection_matrix.count()))"
   ]
  },
  {
   "cell_type": "code",
   "execution_count": 13,
   "metadata": {},
   "outputs": [
    {
     "name": "stdout",
     "output_type": "stream",
     "text": [
      "CPU times: user 76 µs, sys: 1 µs, total: 77 µs\n",
      "Wall time: 81.8 µs\n"
     ]
    }
   ],
   "source": [
    "%%time\n",
    "df = DrawGradedComplex(connection_matrix, reduced_poset)"
   ]
  },
  {
   "cell_type": "code",
   "execution_count": 14,
   "metadata": {},
   "outputs": [],
   "source": [
    "with open('cm.gv','w') as outfile:\n",
    "    outfile.write(df.graphviz())"
   ]
  },
  {
   "cell_type": "code",
   "execution_count": 15,
   "metadata": {},
   "outputs": [
    {
     "data": {
      "image/svg+xml": [
       "<?xml version=\"1.0\" encoding=\"UTF-8\" standalone=\"no\"?>\n",
       "<!DOCTYPE svg PUBLIC \"-//W3C//DTD SVG 1.1//EN\"\n",
       " \"http://www.w3.org/Graphics/SVG/1.1/DTD/svg11.dtd\">\n",
       "<!-- Generated by graphviz version 2.40.1 (20161225.0304)\n",
       " -->\n",
       "<!-- Title: %3 Pages: 1 -->\n",
       "<svg width=\"224pt\" height=\"116pt\"\n",
       " viewBox=\"0.00 0.00 223.81 116.00\" xmlns=\"http://www.w3.org/2000/svg\" xmlns:xlink=\"http://www.w3.org/1999/xlink\">\n",
       "<g id=\"graph0\" class=\"graph\" transform=\"scale(1 1) rotate(0) translate(4 112)\">\n",
       "<title>%3</title>\n",
       "<polygon fill=\"#ffffff\" stroke=\"transparent\" points=\"-4,4 -4,-112 219.8117,-112 219.8117,4 -4,4\"/>\n",
       "<!-- 0 -->\n",
       "<g id=\"node1\" class=\"node\">\n",
       "<title>0</title>\n",
       "<ellipse fill=\"#00ffff\" stroke=\"#000000\" cx=\"49.4058\" cy=\"-18\" rx=\"49.3119\" ry=\"18\"/>\n",
       "<text text-anchor=\"middle\" x=\"49.4058\" y=\"-13.8\" font-family=\"Times,serif\" font-size=\"14.00\" fill=\"#000000\">0 : (1, 0, 0)</text>\n",
       "</g>\n",
       "<!-- 1 -->\n",
       "<g id=\"node2\" class=\"node\">\n",
       "<title>1</title>\n",
       "<ellipse fill=\"#00ffff\" stroke=\"#000000\" cx=\"166.4058\" cy=\"-18\" rx=\"49.3119\" ry=\"18\"/>\n",
       "<text text-anchor=\"middle\" x=\"166.4058\" y=\"-13.8\" font-family=\"Times,serif\" font-size=\"14.00\" fill=\"#000000\">3 : (1, 0, 0)</text>\n",
       "</g>\n",
       "<!-- 2 -->\n",
       "<g id=\"node3\" class=\"node\">\n",
       "<title>2</title>\n",
       "<ellipse fill=\"#00ffff\" stroke=\"#000000\" cx=\"107.4058\" cy=\"-90\" rx=\"49.3119\" ry=\"18\"/>\n",
       "<text text-anchor=\"middle\" x=\"107.4058\" y=\"-85.8\" font-family=\"Times,serif\" font-size=\"14.00\" fill=\"#000000\">6 : (0, 1, 0)</text>\n",
       "</g>\n",
       "<!-- 2&#45;&gt;0 -->\n",
       "<g id=\"edge1\" class=\"edge\">\n",
       "<title>2&#45;&gt;0</title>\n",
       "<path fill=\"none\" stroke=\"#000000\" d=\"M93.3657,-72.5708C86.2938,-63.7919 77.5875,-52.9841 69.7939,-43.3093\"/>\n",
       "<polygon fill=\"#000000\" stroke=\"#000000\" points=\"72.5167,-41.1101 63.5177,-35.5182 67.0654,-45.5015 72.5167,-41.1101\"/>\n",
       "</g>\n",
       "<!-- 2&#45;&gt;1 -->\n",
       "<g id=\"edge2\" class=\"edge\">\n",
       "<title>2&#45;&gt;1</title>\n",
       "<path fill=\"none\" stroke=\"#000000\" d=\"M121.6881,-72.5708C128.9352,-63.7269 137.8696,-52.8239 145.8423,-43.0945\"/>\n",
       "<polygon fill=\"#000000\" stroke=\"#000000\" points=\"148.624,-45.2219 152.2551,-35.2687 143.2097,-40.7851 148.624,-45.2219\"/>\n",
       "</g>\n",
       "</g>\n",
       "</svg>\n"
      ],
      "text/plain": [
       "<pychomp.DrawGradedComplex.DrawGradedComplex at 0x1135f67f0>"
      ]
     },
     "execution_count": 15,
     "metadata": {},
     "output_type": "execute_result"
    }
   ],
   "source": [
    "df"
   ]
  },
  {
   "cell_type": "code",
   "execution_count": 16,
   "metadata": {},
   "outputs": [
    {
     "name": "stdout",
     "output_type": "stream",
     "text": [
      "Connection Matrix Data\n",
      "======================\n",
      "  Boundaries of 0-cells in Connection Fibration:\n",
      "    0 : set()\n",
      "    1 : set()\n",
      "  Boundaries of 1-cells in Connection Fibration:\n",
      "    2 : {0, 1}\n"
     ]
    }
   ],
   "source": [
    "bd = lambda cell : connection_matrix.complex().boundary(cell)\n",
    "C = connection_matrix.complex()\n",
    "print(\"Connection Matrix Data\")\n",
    "print(\"======================\")\n",
    "for d in range(0,C.dimension()):\n",
    "    print(\"  Boundaries of \" + str(d) + \"-cells in Connection Fibration:\")\n",
    "    for c in C(d):\n",
    "        print(\"    \" + str( c) + ' : ' + str(bd({c})))"
   ]
  },
  {
   "cell_type": "code",
   "execution_count": 17,
   "metadata": {},
   "outputs": [
    {
     "data": {
      "text/plain": [
       "144"
      ]
     },
     "execution_count": 17,
     "metadata": {},
     "output_type": "execute_result"
    }
   ],
   "source": [
    "braid_complex.size()"
   ]
  }
 ],
 "metadata": {
  "kernelspec": {
   "display_name": "Python 3",
   "language": "python",
   "name": "python3"
  },
  "language_info": {
   "codemirror_mode": {
    "name": "ipython",
    "version": 3
   },
   "file_extension": ".py",
   "mimetype": "text/x-python",
   "name": "python",
   "nbconvert_exporter": "python",
   "pygments_lexer": "ipython3",
   "version": "3.7.0"
  }
 },
 "nbformat": 4,
 "nbformat_minor": 1
}
